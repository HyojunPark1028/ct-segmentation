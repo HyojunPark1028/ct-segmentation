{
 "cells": [
  {
   "cell_type": "code",
   "execution_count": 3,
   "metadata": {},
   "outputs": [],
   "source": [
    "import os, sys\n",
    "\n",
    "# 1단계: 루트 디렉토리로 이동\n",
    "os.chdir(\"..\") # notebooks -> ct-segmentation 루트로 이동\n",
    "\n",
    "# 2단계: 현재 경로를 PYTONPATH에 추가\n",
    "sys.path.append(os.getcwd())"
   ]
  },
  {
   "cell_type": "code",
   "execution_count": 4,
   "metadata": {},
   "outputs": [
    {
     "name": "stderr",
     "output_type": "stream",
     "text": [
      "ERROR: Package 'sam-2' requires a different Python: 3.9.10 not in '>=3.10.0'\n"
     ]
    },
    {
     "name": "stdout",
     "output_type": "stream",
     "text": [
      "✔ Checkpoint & config YAML 다운로드 완료\n"
     ]
    }
   ],
   "source": [
    "# ✅ 기본 설치 및 경로 셋업\n",
    "!pip install -q git+https://github.com/facebookresearch/sam2.git\n",
    "!pip install -q timm omegaconf\n",
    "\n",
    "# ✅ checkpoints 및 config 파일 다운로드\n",
    "import os, requests\n",
    "os.makedirs(\"weights\", exist_ok=True)\n",
    "os.makedirs(\"sam2/configs/sam2.1\", exist_ok=True)\n",
    "\n",
    "# Checkpoint 다운로드\n",
    "ckpt_url = \"https://dl.fbaipublicfiles.com/sam/sam2.1_hiera_base_plus.pt\"\n",
    "ckpt_path = \"weights/sam2.1_hiera_base_plus.pt\"\n",
    "if not os.path.exists(ckpt_path):\n",
    "    r = requests.get(ckpt_url, stream=True)\n",
    "    with open(ckpt_path, \"wb\") as f:\n",
    "        for chunk in r.iter_content(chunk_size=8192):\n",
    "            f.write(chunk)\n",
    "\n",
    "# Config YAML 다운로드\n",
    "yaml_url = \"https://raw.githubusercontent.com/facebookresearch/sam2/main/sam2/configs/sam2.1/sam2.1_hiera_b+.yaml\"\n",
    "yaml_path = \"sam2/configs/sam2.1/sam2.1_hiera_b+.yaml\"\n",
    "if not os.path.exists(yaml_path):\n",
    "    r = requests.get(yaml_url)\n",
    "    with open(yaml_path, \"w\") as f:\n",
    "        f.write(r.text)\n",
    "\n",
    "# ✅ 경로 확인\n",
    "print(\"✔ Checkpoint & config YAML 다운로드 완료\")\n"
   ]
  },
  {
   "cell_type": "code",
   "execution_count": 5,
   "metadata": {},
   "outputs": [
    {
     "ename": "ModuleNotFoundError",
     "evalue": "No module named 'sam2.build_sam'",
     "output_type": "error",
     "traceback": [
      "\u001b[1;31m---------------------------------------------------------------------------\u001b[0m",
      "\u001b[1;31mModuleNotFoundError\u001b[0m                       Traceback (most recent call last)",
      "Cell \u001b[1;32mIn[5], line 1\u001b[0m\n\u001b[1;32m----> 1\u001b[0m \u001b[38;5;28;01mfrom\u001b[39;00m \u001b[38;5;21;01msrc\u001b[39;00m\u001b[38;5;21;01m.\u001b[39;00m\u001b[38;5;21;01mtrain\u001b[39;00m \u001b[38;5;28;01mimport\u001b[39;00m train\n\u001b[0;32m      2\u001b[0m train(\u001b[38;5;124m'\u001b[39m\u001b[38;5;124mconfigs/sam2unet.yaml\u001b[39m\u001b[38;5;124m'\u001b[39m)\n",
      "File \u001b[1;32mc:\\Users\\Hyojun Park\\Paper\\ct-segmentation\\src\\train.py:13\u001b[0m\n\u001b[0;32m     11\u001b[0m \u001b[38;5;28;01mfrom\u001b[39;00m \u001b[38;5;21;01m.\u001b[39;00m\u001b[38;5;21;01mmodels\u001b[39;00m\u001b[38;5;21;01m.\u001b[39;00m\u001b[38;5;21;01mswinunet\u001b[39;00m \u001b[38;5;28;01mimport\u001b[39;00m SwinUNet\n\u001b[0;32m     12\u001b[0m \u001b[38;5;28;01mfrom\u001b[39;00m \u001b[38;5;21;01m.\u001b[39;00m\u001b[38;5;21;01mmodels\u001b[39;00m\u001b[38;5;21;01m.\u001b[39;00m\u001b[38;5;21;01mutransvision\u001b[39;00m \u001b[38;5;28;01mimport\u001b[39;00m UTransVision\n\u001b[1;32m---> 13\u001b[0m \u001b[38;5;28;01mfrom\u001b[39;00m \u001b[38;5;21;01m.\u001b[39;00m\u001b[38;5;21;01mmodels\u001b[39;00m\u001b[38;5;21;01m.\u001b[39;00m\u001b[38;5;21;01msam2unet\u001b[39;00m \u001b[38;5;28;01mimport\u001b[39;00m SAM2UNet\n\u001b[0;32m     14\u001b[0m \u001b[38;5;28;01mfrom\u001b[39;00m \u001b[38;5;21;01m.\u001b[39;00m\u001b[38;5;21;01mmodels\u001b[39;00m\u001b[38;5;21;01m.\u001b[39;00m\u001b[38;5;21;01mmedsam\u001b[39;00m \u001b[38;5;28;01mimport\u001b[39;00m MedSAM\n\u001b[0;32m     15\u001b[0m \u001b[38;5;28;01mfrom\u001b[39;00m \u001b[38;5;21;01m.\u001b[39;00m\u001b[38;5;21;01mmodels\u001b[39;00m\u001b[38;5;21;01m.\u001b[39;00m\u001b[38;5;21;01mmedsam2\u001b[39;00m \u001b[38;5;28;01mimport\u001b[39;00m MedSAM2\n",
      "File \u001b[1;32mc:\\Users\\Hyojun Park\\Paper\\ct-segmentation\\src\\models\\sam2unet.py:4\u001b[0m\n\u001b[0;32m      2\u001b[0m \u001b[38;5;28;01mimport\u001b[39;00m \u001b[38;5;21;01mtorch\u001b[39;00m\u001b[38;5;21;01m.\u001b[39;00m\u001b[38;5;21;01mnn\u001b[39;00m \u001b[38;5;28;01mas\u001b[39;00m \u001b[38;5;21;01mnn\u001b[39;00m\n\u001b[0;32m      3\u001b[0m \u001b[38;5;28;01mimport\u001b[39;00m \u001b[38;5;21;01mtorch\u001b[39;00m\u001b[38;5;21;01m.\u001b[39;00m\u001b[38;5;21;01mnn\u001b[39;00m\u001b[38;5;21;01m.\u001b[39;00m\u001b[38;5;21;01mfunctional\u001b[39;00m \u001b[38;5;28;01mas\u001b[39;00m \u001b[38;5;21;01mF\u001b[39;00m\n\u001b[1;32m----> 4\u001b[0m \u001b[38;5;28;01mfrom\u001b[39;00m \u001b[38;5;21;01msam2\u001b[39;00m\u001b[38;5;21;01m.\u001b[39;00m\u001b[38;5;21;01mbuild_sam\u001b[39;00m \u001b[38;5;28;01mimport\u001b[39;00m build_sam2  \u001b[38;5;66;03m# SAM2 with Hiera support\u001b[39;00m\n\u001b[0;32m      7\u001b[0m \u001b[38;5;28;01mclass\u001b[39;00m \u001b[38;5;21;01mUpBlock\u001b[39;00m(nn\u001b[38;5;241m.\u001b[39mModule):\n\u001b[0;32m      8\u001b[0m     \u001b[38;5;28;01mdef\u001b[39;00m \u001b[38;5;21m__init__\u001b[39m(\u001b[38;5;28mself\u001b[39m, in_channels, skip_channels, out_channels):\n",
      "\u001b[1;31mModuleNotFoundError\u001b[0m: No module named 'sam2.build_sam'"
     ]
    }
   ],
   "source": [
    "from src.train import train\n",
    "train('configs/sam2unet.yaml')"
   ]
  },
  {
   "cell_type": "code",
   "execution_count": null,
   "metadata": {},
   "outputs": [],
   "source": []
  }
 ],
 "metadata": {
  "kernelspec": {
   "display_name": "Python 3",
   "language": "python",
   "name": "python3"
  },
  "language_info": {
   "codemirror_mode": {
    "name": "ipython",
    "version": 3
   },
   "file_extension": ".py",
   "mimetype": "text/x-python",
   "name": "python",
   "nbconvert_exporter": "python",
   "pygments_lexer": "ipython3",
   "version": "3.9.10"
  }
 },
 "nbformat": 4,
 "nbformat_minor": 2
}
